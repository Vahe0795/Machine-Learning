{
  "nbformat": 4,
  "nbformat_minor": 0,
  "metadata": {
    "colab": {
      "name": "Decision Tree.ipynb",
      "provenance": [],
      "authorship_tag": "ABX9TyN+nePsxF83AOY8737+2UHD"
    },
    "kernelspec": {
      "name": "python3",
      "display_name": "Python 3"
    },
    "language_info": {
      "name": "python"
    }
  },
  "cells": [
    {
      "cell_type": "code",
      "execution_count": 1,
      "metadata": {
        "id": "y2ByBEsWyUQt"
      },
      "outputs": [],
      "source": [
        "from sklearn.metrics import accuracy_score\n",
        "import numpy as np\n",
        "\n",
        "class MyDTClassifier:\n",
        "\n",
        "    def __init__(self, max_depth, min_size):\n",
        "        self.max_depth, self.min_size = max_depth, min_size\n",
        "\n",
        "    def get_gini_and_splitting_value(self, X, y):\n",
        "        m = y.shape[0]\n",
        "        if m <= 1:\n",
        "            return None, None\n",
        "        parent = [np.sum(y == c) for c in range(self.n_classes)]\n",
        "        gini = 1.0 - sum((n / m) ** 2 for n in parent)\n",
        "        index, value = None, None\n",
        "        for i in range(self.features):\n",
        "            thresholds, classes = zip(*sorted(zip(X[:, i], y)))\n",
        "            n_left = [0] * self.n_classes\n",
        "            n_right = parent.copy()\n",
        "            for k in range(1, m):\n",
        "                c = classes[k - 1]\n",
        "                n_left[c] += 1\n",
        "                n_right[c] -= 1\n",
        "                gini_left = 1.0 - sum((n_left[x] / k) ** 2 for x in range(self.n_classes))\n",
        "                gini_right = 1.0 - sum((n_right[x] / (m - k)) ** 2 for x in range(self.n_classes))\n",
        "                weighted_gini = (k * gini_left + (m - k) * gini_right) / m\n",
        "                if thresholds[k] == thresholds[k - 1]:\n",
        "                    continue\n",
        "                if weighted_gini < gini:\n",
        "                    gini = weighted_gini\n",
        "                    index = i\n",
        "                    value = (thresholds[k] + thresholds[k - 1]) / 2\n",
        "        return index, value\n",
        "\n",
        "    class Node:\n",
        "\n",
        "        def __init__(self, data, max_depth, min_size=3):\n",
        "            self.data = data\n",
        "            self.max_depth = max_depth\n",
        "            self.left = None\n",
        "            self.right = None\n",
        "            self.feature_index = 0\n",
        "            self.threshold = 0  \n",
        "\n",
        "    def fit(self, X_train, y_train):\n",
        "        self.n_classes = len(set(y_train))\n",
        "        self.features = X.shape[1]\n",
        "        self.dec_tree = self.tree(X_train, y_train)\n",
        "        return self\n",
        "\n",
        "    def tree(self, X, y, depth=0):\n",
        "        num_samples_per_class = [np.sum(y == i) for i in range(self.n_classes)]\n",
        "        predicted_class = np.argmax(num_samples_per_class)\n",
        "        node = self.Node(data=predicted_class, max_depth=3)\n",
        "        if depth < self.max_depth:\n",
        "            index, value = self.get_gini_and_splitting_value(X, y)\n",
        "            if index is not None and len(y) >= self.min_size:\n",
        "                indices_left = X[:, index] < value\n",
        "                indices_right = X[:, index] >= value\n",
        "                X_left, y_left = X[indices_left], y[indices_left]\n",
        "                X_right, y_right = X[indices_right], y[indices_right]\n",
        "                node.feature_index = index\n",
        "                node.threshold = value\n",
        "                node.left = self.tree(X_left, y_left, depth + 1)\n",
        "                node.right = self.tree(X_right, y_right, depth + 1)\n",
        "        return node\n",
        "\n",
        "    def func(self, data):\n",
        "        node = self.dec_tree\n",
        "        while node.left:\n",
        "            if data[node.feature_index] < node.threshold:\n",
        "                node = node.left\n",
        "            else:\n",
        "                node = node.right\n",
        "        return node.data\n",
        "\n",
        "    def predict(self, X_test):\n",
        "        prediction = [self.func(data) for data in X_test]\n",
        "        return prediction\n",
        "\n",
        "    def score(self, prediction, y):\n",
        "        n_class = np.unique(y)\n",
        "        matrix = np.zeros((len(n_class), len(n_class)))\n",
        "        for i in range(len(n_class)):\n",
        "            for j in range(len(n_class)):\n",
        "                matrix[i, j] = np.sum((y == n_class[i]) & (prediction == n_class[j]))\n",
        "        return sum(np.diag(matrix)) / sum(sum(matrix))"
      ]
    },
    {
      "cell_type": "code",
      "source": [
        "from sklearn.model_selection import train_test_split\n",
        "from sklearn.datasets import load_iris\n",
        "\n",
        "iris = load_iris()\n",
        "pair = [0,1]\n",
        "X, y = iris.data[:, pair] , iris.target\n",
        "X = iris.data\n",
        "y = iris.target\n",
        "X_train, X_test, y_train, y_test = train_test_split(iris.data, iris.target, test_size=0.2, random_state=4)"
      ],
      "metadata": {
        "id": "2SYhInH8yYqf"
      },
      "execution_count": 2,
      "outputs": []
    },
    {
      "cell_type": "code",
      "source": [
        "tree = MyDTClassifier(max_depth=3, min_size=3)\n",
        "tree.fit(X_train, y_train)\n",
        "prediction = tree.predict(X_test)\n",
        "tree.score(prediction, y_test)"
      ],
      "metadata": {
        "colab": {
          "base_uri": "https://localhost:8080/"
        },
        "id": "ylzAl7IFycFG",
        "outputId": "8264e129-e88a-4147-c8c9-a1e637436286"
      },
      "execution_count": 3,
      "outputs": [
        {
          "output_type": "execute_result",
          "data": {
            "text/plain": [
              "0.9666666666666667"
            ]
          },
          "metadata": {},
          "execution_count": 3
        }
      ]
    },
    {
      "cell_type": "code",
      "source": [
        ""
      ],
      "metadata": {
        "id": "O7SS_3KIz3pt"
      },
      "execution_count": 3,
      "outputs": []
    }
  ]
}