{
  "nbformat": 4,
  "nbformat_minor": 0,
  "metadata": {
    "colab": {
      "name": "Linear Regression.ipynb",
      "provenance": [],
      "authorship_tag": "ABX9TyMXco8MkD5aiYmafjMjC00/"
    },
    "kernelspec": {
      "name": "python3",
      "display_name": "Python 3"
    },
    "language_info": {
      "name": "python"
    }
  },
  "cells": [
    {
      "cell_type": "code",
      "execution_count": null,
      "metadata": {
        "id": "SGPf9nkkZuGZ"
      },
      "outputs": [],
      "source": [
        "import pandas as pd\n",
        "import numpy as np\n",
        "from sklearn import datasets\n",
        "\n",
        "#We import Iris dataset to do some Linear Regression\n",
        "iris = datasets.load_iris()\n",
        "X = iris.data[:, :2]  # we only take the first two features.\n",
        "Y = iris.target"
      ]
    },
    {
      "cell_type": "code",
      "source": [
        "from sklearn.model_selection import train_test_split\n",
        "# Let's split our data into training and testing samples with 80/20 ratio\n",
        "X_train, X_test, y_train, y_test = train_test_split(X, Y, test_size= 0.2, random_state= 101)"
      ],
      "metadata": {
        "id": "b6JNOL0XlVO_"
      },
      "execution_count": null,
      "outputs": []
    },
    {
      "cell_type": "code",
      "source": [
        "def fit_linear_regression(data_vector, response_vector):\n",
        "    # Insert a row of ones to the data \n",
        "    X = np.c_[np.ones(data_vector.shape[0]), data_vector]\n",
        "    # Transpose data vector\n",
        "    X_T = np.transpose(X)\n",
        "    # Multiplicate transposed data vector and data vector\n",
        "    X_T_X = np.dot(X_T, X)\n",
        "    # Multiplicate transposed data vector and target vector\n",
        "    X_T_Y = np.dot(X_T, response_vector)\n",
        "    # Multiplicate inverse vector of X_T_X and X_T_Y\n",
        "    B = np.linalg.solve(X_T_X, X_T_Y)\n",
        "    return B\n",
        "\n",
        "fit_linear_regression(np.array(X_train), np.array(y_train))"
      ],
      "metadata": {
        "colab": {
          "base_uri": "https://localhost:8080/"
        },
        "id": "6jo5Is6-ZxFN",
        "outputId": "a1380453-078f-4388-e48a-3a41610526df"
      },
      "execution_count": null,
      "outputs": [
        {
          "output_type": "execute_result",
          "data": {
            "text/plain": [
              "array([-1.32405555,  0.74181375, -0.65170205])"
            ]
          },
          "metadata": {},
          "execution_count": 3
        }
      ]
    },
    {
      "cell_type": "code",
      "source": [
        "# Let's check our result with the one given by sklearn.linear model \n",
        "from sklearn.linear_model import LinearRegression\n",
        "reg = LinearRegression()\n",
        "reg.fit(X_train, y_train)\n",
        "reg.intercept_"
      ],
      "metadata": {
        "colab": {
          "base_uri": "https://localhost:8080/"
        },
        "id": "jWqYktJqibF4",
        "outputId": "f87360c3-e713-4983-bddb-8f36493bd38c"
      },
      "execution_count": null,
      "outputs": [
        {
          "output_type": "execute_result",
          "data": {
            "text/plain": [
              "-1.3240555549684037"
            ]
          },
          "metadata": {},
          "execution_count": 4
        }
      ]
    },
    {
      "cell_type": "code",
      "source": [
        "reg.coef_"
      ],
      "metadata": {
        "colab": {
          "base_uri": "https://localhost:8080/"
        },
        "id": "N2BkIk84mF-2",
        "outputId": "f330962e-07ec-46af-8b2a-0110550d47f6"
      },
      "execution_count": null,
      "outputs": [
        {
          "output_type": "execute_result",
          "data": {
            "text/plain": [
              "array([ 0.74181375, -0.65170205])"
            ]
          },
          "metadata": {},
          "execution_count": 5
        }
      ]
    },
    {
      "cell_type": "code",
      "source": [
        ""
      ],
      "metadata": {
        "id": "FCwyoi40iy9z"
      },
      "execution_count": null,
      "outputs": []
    }
  ]
}