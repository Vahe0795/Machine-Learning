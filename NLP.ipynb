{
  "cells": [
    {
      "cell_type": "markdown",
      "metadata": {
        "id": "view-in-github",
        "colab_type": "text"
      },
      "source": [
        "<a href=\"https://colab.research.google.com/github/Vahe0795/Machine-Learning/blob/main/NLP.ipynb\" target=\"_parent\"><img src=\"https://colab.research.google.com/assets/colab-badge.svg\" alt=\"Open In Colab\"/></a>"
      ]
    },
    {
      "cell_type": "code",
      "execution_count": 1,
      "metadata": {
        "id": "TJvKhRFj7AQA"
      },
      "outputs": [],
      "source": [
        "import numpy as np\n",
        "import matplotlib.pyplot as plt\n",
        "%matplotlib inline"
      ]
    },
    {
      "cell_type": "code",
      "execution_count": 2,
      "metadata": {
        "id": "ojTGAAb87AQM"
      },
      "outputs": [],
      "source": [
        "import pandas as pd\n",
        "df = pd.read_csv('comments.tsv', sep='\\t')\n",
        "X = df['comment_text']\n",
        "y = df['should_ban']\n",
        "\n"
      ]
    },
    {
      "cell_type": "code",
      "execution_count": 3,
      "metadata": {
        "id": "zd3GrZ1d7AQP",
        "jupyter": {
          "outputs_hidden": true
        }
      },
      "outputs": [],
      "source": [
        "from pandas.core.common import random_state\n",
        "from sklearn.model_selection import train_test_split\n",
        "X_train, X_test, y_train, y_test = train_test_split(X, y, test_size=0.50, random_state=42, stratify=y)\n"
      ]
    },
    {
      "cell_type": "code",
      "execution_count": 4,
      "metadata": {
        "id": "93C6Hmig7AQT",
        "outputId": "dc2e5cbb-8955-4515-c7e2-370c9fd03d6c",
        "colab": {
          "base_uri": "https://localhost:8080/"
        }
      },
      "outputs": [
        {
          "output_type": "stream",
          "name": "stdout",
          "text": [
            "before: How to be a grown-up at work: replace \"fuck you\" with \"Ok, great!\".\n",
            "after: how to be a grown-up at work : replace \" fuck you \" with \" ok , great ! \" .\n"
          ]
        }
      ],
      "source": [
        "from nltk.tokenize import TweetTokenizer\n",
        "\n",
        "def preprocess(t):\n",
        "    t = t.lower()\n",
        "    token = TweetTokenizer()\n",
        "    return \" \".join(token.tokenize(t))\n",
        "\n",
        "\n",
        "text = 'How to be a grown-up at work: replace \"fuck you\" with \"Ok, great!\".'\n",
        "\n",
        "print(\"before:\", text)\n",
        "print(\"after:\", preprocess(text))"
      ]
    },
    {
      "cell_type": "code",
      "execution_count": 5,
      "metadata": {
        "id": "onUU_WMu7AQV",
        "jupyter": {
          "outputs_hidden": true
        }
      },
      "outputs": [],
      "source": [
        "texts_train = [preprocess(i) for i in X_train]\n",
        "texts_test = [preprocess(i) for i in X_test]"
      ]
    },
    {
      "cell_type": "code",
      "execution_count": 6,
      "metadata": {
        "id": "Mgu_6ns57AQW",
        "jupyter": {
          "outputs_hidden": true
        }
      },
      "outputs": [],
      "source": [
        "assert texts_train[3] ==  'butts screw my butthole mr krabs'\n",
        "assert texts_test[5] == ', 21 april 2008 ( utc ) what the fuck are you talking about ? 11:47'\n",
        "assert len(texts_test) == len(y_test)"
      ]
    },
    {
      "cell_type": "code",
      "execution_count": 7,
      "metadata": {
        "id": "XDMjnufO7AQY",
        "colab": {
          "base_uri": "https://localhost:8080/"
        },
        "outputId": "ebc0012e-b218-4e21-c6a0-a8d17edaa7fe"
      },
      "outputs": [
        {
          "output_type": "stream",
          "name": "stdout",
          "text": [
            "example features: ['!', '1890-1920', '442', 'absurd', 'african', 'annon', 'articulate', 'bam', 'bing', 'brotherhood', 'cats', 'cking', 'concerns', 'costs', 'dates', 'diary', 'dont', 'eisenhower', 'even', 'faking', 'flavor', 'fulfill', 'goddamn', 'happened', 'historic', 'identifies', 'inherently', 'jane', 'lacking', 'listen', 'managers', 'mexico', 'moved', 'nobody', 'oh', 'particular', 'piss', 'presence', 'psychics', 'reach', 'relating', 'reversion', 'say', \"she's\", 'smuggling', 'standard', 'suckin', 'taunted', 'threaten', 'tries', 'unless', 'view', 'wen', 'world', '•']\n"
          ]
        }
      ],
      "source": [
        "from collections import Counter \n",
        "c = Counter(' '.join(texts_train).split())\n",
        "k = 10000\n",
        "bow_vocabulary = c.most_common(k)\n",
        "bow_vocabulary = [i[0] for i in bow_vocabulary]\n",
        "print('example features:', sorted(bow_vocabulary)[::100])"
      ]
    },
    {
      "cell_type": "code",
      "execution_count": 8,
      "metadata": {
        "id": "uV8xKb0B7AQZ",
        "jupyter": {
          "outputs_hidden": true
        }
      },
      "outputs": [],
      "source": [
        "def text_to_bow(text):\n",
        "    \"\"\" convert text string to an array of token counts. Use bow_vocabulary. \"\"\"\n",
        "    token_counts = [[] for i in range(len(text))]\n",
        "    index = 0\n",
        "    for i in text:\n",
        "        for j in bow_vocabulary:\n",
        "            if j in i.split():\n",
        "                if len(bow_vocabulary) > len(token_counts[index]):\n",
        "                    token_counts[index].append(i.split().count(j))\n",
        "            else:\n",
        "                token_counts[index].append(0)\n",
        "        if len(bow_vocabulary) == len(token_counts[index]) and index != len(token_counts) - 1:\n",
        "            index += 1\n",
        "    return np.array(token_counts, 'float32')"
      ]
    },
    {
      "cell_type": "code",
      "execution_count": 9,
      "metadata": {
        "id": "0HsVF21L7AQa",
        "jupyter": {
          "outputs_hidden": true
        }
      },
      "outputs": [],
      "source": [
        "X_train_bow = text_to_bow(texts_train)\n",
        "X_test_bow = text_to_bow(texts_test)\n"
      ]
    },
    {
      "cell_type": "code",
      "execution_count": 10,
      "metadata": {
        "id": "5WZ7cLSa7AQa",
        "jupyter": {
          "outputs_hidden": true
        }
      },
      "outputs": [],
      "source": [
        "k_max = len(set(' '.join(texts_train).split()))\n",
        "assert X_train_bow.shape == (len(texts_train), min(k, k_max))\n",
        "assert X_test_bow.shape == (len(texts_test), min(k, k_max))\n",
        "assert np.all(X_train_bow[5:10].sum(-1) == np.array([len(s.split()) for s in  texts_train[5:10]]))\n",
        "assert len(bow_vocabulary) <= min(k, k_max)\n",
        "assert X_train_bow[6, bow_vocabulary.index('.')] == texts_train[6].split().count('.')"
      ]
    },
    {
      "cell_type": "code",
      "execution_count": 11,
      "metadata": {
        "id": "tyiVFqbk7AQb",
        "jupyter": {
          "outputs_hidden": true
        },
        "colab": {
          "base_uri": "https://localhost:8080/"
        },
        "outputId": "a8bc241a-0b90-4884-f297-8dfe6b677cf3"
      },
      "outputs": [
        {
          "output_type": "stream",
          "name": "stdout",
          "text": [
            "f1_score: 0.7889546351084813\n",
            "MSE: 0.214\n"
          ]
        }
      ],
      "source": [
        "from sklearn.linear_model import LogisticRegression\n",
        "from sklearn.metrics import f1_score, mean_squared_error\n",
        "\n",
        "bow_model = LogisticRegression()\n",
        "bow_model.fit(X_train_bow, y_train)\n",
        "y_pred = bow_model.predict(X_test_bow)\n",
        "\n",
        "print(f'f1_score: {f1_score(y_test, y_pred)}')\n",
        "print(f'MSE: {mean_squared_error(y_test, y_pred)}')"
      ]
    },
    {
      "cell_type": "code",
      "execution_count": 12,
      "metadata": {
        "id": "m42ndd-W7AQc",
        "colab": {
          "base_uri": "https://localhost:8080/",
          "height": 265
        },
        "outputId": "3d8a4124-8281-4aad-b6cd-f0d80fb29e47"
      },
      "outputs": [
        {
          "output_type": "display_data",
          "data": {
            "text/plain": [
              "<Figure size 432x288 with 1 Axes>"
            ],
            "image/png": "[encoded data removed]"
          },
          "metadata": {
            "needs_background": "light"
          }
        }
      ],
      "source": [
        "from sklearn.metrics import roc_auc_score, roc_curve\n",
        "\n",
        "for name, X, y, model in [\n",
        "    ('train', X_train_bow, y_train, bow_model),\n",
        "    ('test ', X_test_bow, y_test, bow_model)\n",
        "]:\n",
        "    proba = model.predict_proba(X)[:, 1]\n",
        "    auc = roc_auc_score(y, proba)\n",
        "    plt.plot(*roc_curve(y, proba)[:2], label='%s AUC=%.4f' % (name, auc))\n",
        "\n",
        "plt.plot([0, 1], [0, 1], '--', color='black',)\n",
        "plt.legend(fontsize='large')\n",
        "plt.grid()"
      ]
    },
    {
      "cell_type": "code",
      "execution_count": 13,
      "metadata": {
        "id": "doNGLakf7AQd",
        "jupyter": {
          "outputs_hidden": true
        },
        "colab": {
          "base_uri": "https://localhost:8080/"
        },
        "outputId": "aae9d75d-fb60-4568-e968-58abd0bd7483"
      },
      "outputs": [
        {
          "output_type": "stream",
          "name": "stdout",
          "text": [
            "[==================================================] 100.0% 958.5/958.4MB downloaded\n"
          ]
        }
      ],
      "source": [
        "import gensim.downloader \n",
        "embeddings = gensim.downloader.load(\"fasttext-wiki-news-subwords-300\")"
      ]
    },
    {
      "cell_type": "code",
      "execution_count": null,
      "metadata": {
        "id": "qPxeUNES7AQe",
        "jupyter": {
          "outputs_hidden": true
        }
      },
      "outputs": [],
      "source": [
        "def vectorize_sum(comment, embedding_dim):\n",
        "\n",
        "    embedding_dim = embeddings.wv.vectors.shape[1]\n",
        "    keys = embeddings.index_to_key \n",
        "    does_not_exist = np.zeros([embedding_dim], dtype='float32')\n",
        "    features = sum([embeddings.get_vector(word) if word in keys else does_not_exist for word in comment.split()])\n",
        "    \n",
        "    return features\n",
        "\n",
        "assert np.allclose(\n",
        "    vectorize_sum(comment=\"who cares anymore . they attack with impunity .\", embedding_dim=300)[::70],\n",
        "    np.array([ 0.0108616 ,  0.0261663 ,  0.13855131, -0.18510573, -0.46380025])\n",
        ")"
      ]
    },
    {
      "cell_type": "code",
      "execution_count": null,
      "metadata": {
        "id": "ajs2LP_K7AQe"
      },
      "outputs": [],
      "source": [
        "extra = \"'\"\n",
        "preprocess = lambda text: ' '.join([word.split(extra)[0] if extra in word else word for word in text.split()])\n",
        "        \n",
        "texts_test = np.array([preprocess(text) for text in texts_test])\n",
        "texts_train = np.array([preprocess(text) for text in texts_train])"
      ]
    },
    {
      "cell_type": "code",
      "execution_count": null,
      "metadata": {
        "id": "TOjvzy9Z7AQe",
        "jupyter": {
          "outputs_hidden": true
        }
      },
      "outputs": [],
      "source": [
        "X_train_wv = np.stack([vectorize_sum(comment=text, embedding_dim=300) for text in texts_train])\n",
        "X_test_wv = np.stack([vectorize_sum(comment=text, embedding_dim=300) for text in texts_test])"
      ]
    },
    {
      "cell_type": "code",
      "execution_count": null,
      "metadata": {
        "id": "93cVNmwQ7AQf"
      },
      "outputs": [],
      "source": [
        "wv_model = LogisticRegression(max_iter=1000).fit(X_train_wv, y_train)\n",
        "\n",
        "for name, X, y, model in [\n",
        "    ('bow train', X_train_bow, y_train, bow_model),\n",
        "    ('bow test ', X_test_bow, y_test, bow_model),\n",
        "    ('vec train', X_train_wv, y_train, wv_model),\n",
        "    ('vec test ', X_test_wv, y_test, wv_model)\n",
        "]:\n",
        "    proba = model.predict_proba(X)[:, 1]\n",
        "    auc = roc_auc_score(y, proba)\n",
        "    plt.plot(*roc_curve(y, proba)[:2], label='%s AUC=%.4f' % (name, auc))\n",
        "\n",
        "plt.plot([0, 1], [0, 1], '--', color='black',)\n",
        "plt.legend(fontsize='large')\n",
        "plt.grid()\n",
        "\n",
        "assert roc_auc_score(y_test, wv_model.predict_proba(X_test_wv)[:, 1]) > 0.92, \"something's wrong with your features\""
      ]
    },
    {
      "cell_type": "markdown",
      "source": [
        "![picture](data:image/png;base64,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)"
      ],
      "metadata": {
        "id": "sAjv6ceEarPk"
      }
    }
  ],
  "metadata": {
    "colab": {
      "name": "NLP.ipynb",
      "provenance": [],
      "collapsed_sections": [],
      "include_colab_link": true
    },
    "kernelspec": {
      "display_name": "Python 3 (ipykernel)",
      "language": "python",
      "name": "python3"
    },
    "language_info": {
      "codemirror_mode": {
        "name": "ipython",
        "version": 3
      },
      "file_extension": ".py",
      "mimetype": "text/x-python",
      "name": "python",
      "nbconvert_exporter": "python",
      "pygments_lexer": "ipython3",
      "version": "3.9.11"
    }
  },
  "nbformat": 4,
  "nbformat_minor": 0
}