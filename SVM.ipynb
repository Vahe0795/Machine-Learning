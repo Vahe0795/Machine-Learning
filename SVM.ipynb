{
  "cells": [
    {
      "cell_type": "code",
      "execution_count": 1,
      "metadata": {
        "id": "Xfcs-Jgy-7t6"
      },
      "outputs": [],
      "source": [
        "import numpy as np \n",
        "\n",
        "class SVM:\n",
        "\n",
        "    def __init__(self, learning_rate=0.001, lambda_param=0.01, n_iters=1000):\n",
        "        self.lr = learning_rate\n",
        "        self.lambda_param = lambda_param\n",
        "        self.n_iters = n_iters\n",
        "        self.w = None\n",
        "        self.b = None\n",
        "    \n",
        "    def Cost(self):\n",
        "        hinge_loss = np.mean([max(0, 1 - x * y) for x, y in zip(self.y, self.predict(self.X))])\n",
        "        cost = self.lambda_param * np.sum(self.w ** 2) + hinge_loss\n",
        "        return cost\n",
        "    \n",
        "    def f(self, x):\n",
        "        return np.dot(x, self.w) + self.b\n",
        "    \n",
        "    def fit(self, X, y):\n",
        "        self.X = X\n",
        "        self.y = y\n",
        "        self.w = np.zeros(X.shape[1])\n",
        "        self.b = 0\n",
        "        for k in range(self.n_iters):\n",
        "            for i in range(len(self.X)):\n",
        "                if y[i] * self.f(X)[i] >= 1:\n",
        "                    der_w = 2 * self.lambda_param * self.w\n",
        "                    der_b = 0\n",
        "                else:\n",
        "                    der_w = 2 * self.lambda_param * self.w - y[i] * X[i]\n",
        "                    der_b = y[i]\n",
        "                self.w -= self.lr * der_w\n",
        "                self.b -= self.lr * der_b / self.X.shape[1]\n",
        "        return self      \n",
        "\n",
        "    def predict(self, X):\n",
        "        y_pred = []\n",
        "        for i in range(X.shape[0]):\n",
        "            yp = np.sign(np.dot(X[i], self.w))\n",
        "            y_pred = np.append(y_pred, yp)        \n",
        "        return np.array(y_pred)"
      ]
    },
    {
      "cell_type": "code",
      "execution_count": 2,
      "metadata": {
        "id": "80QPP1YW-7t_"
      },
      "outputs": [],
      "source": [
        "\n",
        "from sklearn.datasets import make_blobs\n",
        "import numpy as np \n",
        "X, y = make_blobs(n_samples=50, n_features=2, centers=2, cluster_std=1.05, random_state=40)\n",
        "y = np.where(y == 0, -1, 1)"
      ]
    },
    {
      "cell_type": "code",
      "execution_count": 3,
      "metadata": {
        "id": "ffcI28PX-7uA"
      },
      "outputs": [],
      "source": [
        "from sklearn.model_selection import train_test_split\n",
        "X_train, X_test, y_train, y_test = train_test_split(X, y, random_state=3)"
      ]
    },
    {
      "cell_type": "code",
      "execution_count": 4,
      "metadata": {
        "id": "EK7hzOg7-7uA",
        "colab": {
          "base_uri": "https://localhost:8080/"
        },
        "outputId": "fe606983-880e-4645-e9b1-c87b39740b89"
      },
      "outputs": [
        {
          "output_type": "execute_result",
          "data": {
            "text/plain": [
              "<__main__.SVM at 0x7f3e5e3f1c90>"
            ]
          },
          "metadata": {},
          "execution_count": 4
        }
      ],
      "source": [
        "svm = SVM(n_iters=1000, learning_rate=0.01)\n",
        "svm.fit(X_train, y_train)"
      ]
    },
    {
      "cell_type": "code",
      "execution_count": 5,
      "metadata": {
        "id": "-PQ761aD-7uA"
      },
      "outputs": [],
      "source": [
        "y_pred = svm.predict(X_test)"
      ]
    },
    {
      "cell_type": "code",
      "execution_count": 6,
      "metadata": {
        "id": "zYk7feMs-7uB",
        "outputId": "528aee9f-a7ea-4da9-8a4e-77380e873990",
        "colab": {
          "base_uri": "https://localhost:8080/"
        }
      },
      "outputs": [
        {
          "output_type": "execute_result",
          "data": {
            "text/plain": [
              "1.0"
            ]
          },
          "metadata": {},
          "execution_count": 6
        }
      ],
      "source": [
        "from sklearn.metrics import accuracy_score\n",
        "accuracy_score(y_pred, y_test)"
      ]
    },
    {
      "cell_type": "code",
      "execution_count": 7,
      "metadata": {
        "id": "gGy5-9Ny-7uC",
        "outputId": "934a18d1-e31c-49e8-e995-567af8002b7f",
        "colab": {
          "base_uri": "https://localhost:8080/",
          "height": 300
        }
      },
      "outputs": [
        {
          "output_type": "stream",
          "name": "stdout",
          "text": [
            "[0.63594875 0.15234712] -0.08550000000000006\n",
            "0.0042764046064341765\n"
          ]
        },
        {
          "output_type": "display_data",
          "data": {
            "text/plain": [
              "<Figure size 432x288 with 1 Axes>"
            ],
            "image/png": "[encoded data removed]"
          },
          "metadata": {
            "needs_background": "light"
          }
        }
      ],
      "source": [
        "import numpy as np\n",
        "import matplotlib.pyplot as plt\n",
        "from sklearn import datasets\n",
        "\n",
        "X, y =  datasets.make_blobs(n_samples=50, n_features=2, centers=2, cluster_std=1.05, random_state=40)\n",
        "y = np.where(y == 0, -1, 1)\n",
        "\n",
        "clf = SVM()\n",
        "clf.fit(X, y)\n",
        " \n",
        "print(clf.w, clf.b)\n",
        "print(clf.Cost())\n",
        "\n",
        "def visualize_svm():\n",
        "    def get_hyperplane_value(x, w, b, offset):\n",
        "        return (-w[0] * x + b + offset) / w[1]\n",
        "\n",
        "    fig = plt.figure()\n",
        "    ax = fig.add_subplot(1,1,1)\n",
        "    plt.scatter(X[:,0], X[:,1], marker='o',c=y)\n",
        "\n",
        "    x0_1 = np.amin(X[:,0])\n",
        "    x0_2 = np.amax(X[:,0])\n",
        "\n",
        "    x1_1 = get_hyperplane_value(x0_1, clf.w, clf.b, 0)\n",
        "    x1_2 = get_hyperplane_value(x0_2, clf.w, clf.b, 0)\n",
        "\n",
        "    x1_1_m = get_hyperplane_value(x0_1, clf.w, clf.b, -1)\n",
        "    x1_2_m = get_hyperplane_value(x0_2, clf.w, clf.b, -1)\n",
        "\n",
        "    x1_1_p = get_hyperplane_value(x0_1, clf.w, clf.b, 1)\n",
        "    x1_2_p = get_hyperplane_value(x0_2, clf.w, clf.b, 1)\n",
        "\n",
        "    ax.plot([x0_1, x0_2],[x1_1, x1_2], 'y--')\n",
        "    ax.plot([x0_1, x0_2],[x1_1_m, x1_2_m], 'k')\n",
        "    ax.plot([x0_1, x0_2],[x1_1_p, x1_2_p], 'k')\n",
        "\n",
        "    x1_min = np.amin(X[:,1])\n",
        "    x1_max = np.amax(X[:,1])\n",
        "    ax.set_ylim([x1_min-3,x1_max+3])\n",
        "\n",
        "    plt.show()\n",
        "\n",
        "visualize_svm()"
      ]
    },
    {
      "cell_type": "code",
      "source": [
        ""
      ],
      "metadata": {
        "id": "x3upFW7Ry7ds"
      },
      "execution_count": null,
      "outputs": []
    }
  ],
  "metadata": {
    "kernelspec": {
      "display_name": "Python 3 (ipykernel)",
      "language": "python",
      "name": "python3"
    },
    "language_info": {
      "codemirror_mode": {
        "name": "ipython",
        "version": 3
      },
      "file_extension": ".py",
      "mimetype": "text/x-python",
      "name": "python",
      "nbconvert_exporter": "python",
      "pygments_lexer": "ipython3",
      "version": "3.9.7"
    },
    "colab": {
      "name": "SVM.ipynb",
      "provenance": [],
      "collapsed_sections": []
    }
  },
  "nbformat": 4,
  "nbformat_minor": 0
}